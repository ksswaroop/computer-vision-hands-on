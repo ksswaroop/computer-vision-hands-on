{
 "cells": [
  {
   "cell_type": "markdown",
   "id": "764701b2",
   "metadata": {},
   "source": [
    "#### Record an original video of a subject in a stationary background (No green screens).\n",
    "##### a. Change the original background with another background.\n",
    "##### b. Show the optical flow of the video"
   ]
  },
  {
   "cell_type": "code",
   "execution_count": 2,
   "id": "c6dfd83a",
   "metadata": {},
   "outputs": [
    {
     "ename": "KeyboardInterrupt",
     "evalue": "",
     "output_type": "error",
     "traceback": [
      "\u001b[1;31m---------------------------------------------------------------------------\u001b[0m",
      "\u001b[1;31mKeyboardInterrupt\u001b[0m                         Traceback (most recent call last)",
      "Cell \u001b[1;32mIn[2], line 19\u001b[0m\n\u001b[0;32m     17\u001b[0m \u001b[39mwhile\u001b[39;00m \u001b[39mTrue\u001b[39;00m:\n\u001b[0;32m     18\u001b[0m     _,video\u001b[39m=\u001b[39mvid\u001b[39m.\u001b[39mread()\n\u001b[1;32m---> 19\u001b[0m     vid_rmbg\u001b[39m=\u001b[39mseg\u001b[39m.\u001b[39;49mremoveBG(video,bg_img,threshold\u001b[39m=\u001b[39;49m\u001b[39m0.8\u001b[39;49m)\n\u001b[0;32m     20\u001b[0m     cv2\u001b[39m.\u001b[39mimshow(\u001b[39m\"\u001b[39m\u001b[39mVideo\u001b[39m\u001b[39m\"\u001b[39m,vid_rmbg)\n\u001b[0;32m     21\u001b[0m     \u001b[39mif\u001b[39;00m cv2\u001b[39m.\u001b[39mwaitKey(\u001b[39m1\u001b[39m)\u001b[39m==\u001b[39m\u001b[39mord\u001b[39m(\u001b[39m'\u001b[39m\u001b[39mx\u001b[39m\u001b[39m'\u001b[39m):\n",
      "File \u001b[1;32m~\\AppData\\Roaming\\Python\\Python310\\site-packages\\cvzone\\SelfiSegmentationModule.py:29\u001b[0m, in \u001b[0;36mSelfiSegmentation.removeBG\u001b[1;34m(self, img, imgBg, threshold)\u001b[0m\n\u001b[0;32m     26\u001b[0m results \u001b[39m=\u001b[39m \u001b[39mself\u001b[39m\u001b[39m.\u001b[39mselfieSegmentation\u001b[39m.\u001b[39mprocess(imgRGB)\n\u001b[0;32m     27\u001b[0m condition \u001b[39m=\u001b[39m np\u001b[39m.\u001b[39mstack(\n\u001b[0;32m     28\u001b[0m     (results\u001b[39m.\u001b[39msegmentation_mask,) \u001b[39m*\u001b[39m \u001b[39m3\u001b[39m, axis\u001b[39m=\u001b[39m\u001b[39m-\u001b[39m\u001b[39m1\u001b[39m) \u001b[39m>\u001b[39m threshold\n\u001b[1;32m---> 29\u001b[0m \u001b[39mif\u001b[39;00m \u001b[39misinstance\u001b[39;49m(imgBg, \u001b[39mtuple\u001b[39;49m):\n\u001b[0;32m     30\u001b[0m     _imgBg \u001b[39m=\u001b[39m np\u001b[39m.\u001b[39mzeros(img\u001b[39m.\u001b[39mshape, dtype\u001b[39m=\u001b[39mnp\u001b[39m.\u001b[39muint8)\n\u001b[0;32m     31\u001b[0m     _imgBg[:] \u001b[39m=\u001b[39m imgBg\n",
      "\u001b[1;31mKeyboardInterrupt\u001b[0m: "
     ]
    },
    {
     "ename": "",
     "evalue": "",
     "output_type": "error",
     "traceback": [
      "\u001b[1;31mThe Kernel crashed while executing code in the the current cell or a previous cell. Please review the code in the cell(s) to identify a possible cause of the failure. Click <a href='https://aka.ms/vscodeJupyterKernelCrash'>here</a> for more info. View Jupyter <a href='command:jupyter.viewOutput'>log</a> for further details."
     ]
    }
   ],
   "source": [
    "import cv2\n",
    "import cvzone\n",
    "from cvzone.SelfiSegmentationModule import SelfiSegmentation\n",
    "#vid = cv2.VideoCapture(0)\n",
    "vid = cv2.VideoCapture(\"C:/Users/ksais/OneDrive/Documents/Coding/Computer Vision/computer-vision-hands-on/Q5/dataset/video/Anavind_Interview.mp4\")\n",
    "# ret, videoFrame = vid.read() \n",
    "# videoFrame = cv2.resize(videoFrame, (640, 480))\n",
    "\n",
    "vid.set(3,848) ## Width\n",
    "vid.set(4,480) ## Height\n",
    "\n",
    "bg_img=cv2.imread(\"C:/Users/ksais/OneDrive/Documents/Coding/Computer Vision/computer-vision-hands-on/Q5/dataset/Bgimage_1280.jpg\")\n",
    "#bg_img=cv2.resize(img,(680,480),interpolation = cv2.INTER_LINEAR)\n",
    "\n",
    "seg=SelfiSegmentation()\n",
    "\n",
    "while True:\n",
    "    _,video=vid.read()\n",
    "    vid_rmbg=seg.removeBG(video,bg_img,threshold=0.8)\n",
    "    cv2.imshow(\"Video\",vid_rmbg)\n",
    "    if cv2.waitKey(1)==ord('x'):\n",
    "        break\n",
    "\n"
   ]
  },
  {
   "attachments": {},
   "cell_type": "markdown",
   "id": "e18cf9bf",
   "metadata": {},
   "source": [
    "## Refrence: https://www.youtube.com/watch?v=p9eNXa_8j-k&ab_channel=CodeHaven"
   ]
  },
  {
   "cell_type": "markdown",
   "id": "a4145642",
   "metadata": {},
   "source": []
  },
  {
   "cell_type": "code",
   "execution_count": null,
   "id": "f4059239",
   "metadata": {},
   "outputs": [],
   "source": []
  }
 ],
 "metadata": {
  "kernelspec": {
   "display_name": "Python 3 (ipykernel)",
   "language": "python",
   "name": "python3"
  },
  "language_info": {
   "codemirror_mode": {
    "name": "ipython",
    "version": 3
   },
   "file_extension": ".py",
   "mimetype": "text/x-python",
   "name": "python",
   "nbconvert_exporter": "python",
   "pygments_lexer": "ipython3",
   "version": "3.10.8"
  }
 },
 "nbformat": 4,
 "nbformat_minor": 5
}
