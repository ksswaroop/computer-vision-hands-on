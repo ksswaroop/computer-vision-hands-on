{
 "cells": [
  {
   "cell_type": "markdown",
   "id": "764701b2",
   "metadata": {},
   "source": [
    "#### Record an original video of a subject in a stationary background (No green screens).\n",
    "##### a. Change the original background with another background.\n",
    "##### b. Show the optical flow of the video"
   ]
  },
  {
   "cell_type": "code",
   "execution_count": null,
   "id": "c6dfd83a",
   "metadata": {},
   "outputs": [],
   "source": [
    "import cv2\n",
    "import cvzone\n",
    "from cvzone.SelfiSegmentationModule import SelfiSegmentation\n",
    "#vid = cv2.VideoCapture(0)\n",
    "vid = cv2.VideoCapture(\"C:/Users/ksais/OneDrive/Documents/Coding/Computer Vision/computer-vision-hands-on/Q5/dataset/video/Anavind_Interview.mp4\")\n",
    "# ret, videoFrame = vid.read() \n",
    "# videoFrame = cv2.resize(videoFrame, (640, 480))\n",
    "\n",
    "vid.set(3,848) ## Width\n",
    "vid.set(4,480) ## Height\n",
    "\n",
    "bg_img=cv2.imread(\"C:/Users/ksais/OneDrive/Documents/Coding/Computer Vision/computer-vision-hands-on/Q5/dataset/Bgimage_1280.jpg\")\n",
    "#bg_img=cv2.resize(img,(680,480),interpolation = cv2.INTER_LINEAR)\n",
    "\n",
    "seg=SelfiSegmentation()\n",
    "\n",
    "while True:\n",
    "    _,video=vid.read()\n",
    "    vid_rmbg=seg.removeBG(video,bg_img,threshold=0.8)\n",
    "    cv2.imshow(\"Video\",vid_rmbg)\n",
    "    if cv2.waitKey(1)==ord('x'):\n",
    "        break\n",
    "\n"
   ]
  },
  {
   "cell_type": "code",
   "execution_count": null,
   "id": "a3ec4c20",
   "metadata": {},
   "outputs": [],
   "source": []
  }
 ],
 "metadata": {
  "kernelspec": {
   "display_name": "Python 3 (ipykernel)",
   "language": "python",
   "name": "python3"
  },
  "language_info": {
   "codemirror_mode": {
    "name": "ipython",
    "version": 3
   },
   "file_extension": ".py",
   "mimetype": "text/x-python",
   "name": "python",
   "nbconvert_exporter": "python",
   "pygments_lexer": "ipython3",
   "version": "3.10.8"
  }
 },
 "nbformat": 4,
 "nbformat_minor": 5
}
